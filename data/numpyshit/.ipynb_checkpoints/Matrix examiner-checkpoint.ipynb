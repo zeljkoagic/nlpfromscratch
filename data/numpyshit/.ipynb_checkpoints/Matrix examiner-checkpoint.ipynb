{
 "cells": [
  {
   "cell_type": "code",
   "execution_count": 46,
   "metadata": {
    "collapsed": false
   },
   "outputs": [],
   "source": [
    "%matplotlib inline\n",
    "import numpy as np\n",
    "import pandas as pd\n",
    "import seaborn as sns"
   ]
  },
  {
   "cell_type": "code",
   "execution_count": 47,
   "metadata": {
    "collapsed": true
   },
   "outputs": [],
   "source": [
    "sent = np.load(\"en.1.npz\")\n",
    "T_proj = sent['projection_tensor']\n",
    "source_langs = sent['source_languages']"
   ]
  },
  {
   "cell_type": "code",
   "execution_count": 48,
   "metadata": {
    "collapsed": false
   },
   "outputs": [
    {
     "data": {
      "text/plain": [
       "(11, 12)"
      ]
     },
     "execution_count": 48,
     "metadata": {},
     "output_type": "execute_result"
    }
   ],
   "source": [
    "T_proj[:,:,0].shape"
   ]
  },
  {
   "cell_type": "code",
   "execution_count": 49,
   "metadata": {
    "collapsed": false
   },
   "outputs": [
    {
     "data": {
      "text/plain": [
       "array([[ 0.       ,  0.       ,  0.       ,  0.       ,  0.       ,\n",
       "         0.       ,  0.       ,  0.       ,  0.       ,  0.       ,\n",
       "         0.       ,  0.       ,  0.       ,  0.       ,  0.       ,\n",
       "         0.       ,  0.       ,  0.       ,  0.       ,  0.       ],\n",
       "       [ 0.       ,  0.       ,  0.       ,  0.       ,  0.       ,\n",
       "         0.       ,  0.       ,  0.       ,  0.       ,  0.       ,\n",
       "         0.       ,  0.       ,  0.       ,  0.       ,  0.       ,\n",
       "         0.       ,  0.       ,  0.       ,  0.       ,  0.       ],\n",
       "       [ 0.       ,  0.       ,  0.       ,  0.       ,  0.       ,\n",
       "         0.       ,  0.       ,  0.       ,  0.       ,  0.       ,\n",
       "         0.       ,  0.       ,  0.       ,  0.       ,  0.       ,\n",
       "         0.       ,  3.08067  ,  0.       ,  0.       ,  0.       ],\n",
       "       [ 4.76991  ,  5.57508  ,  5.75572  ,  4.09001  ,  5.99189  ,\n",
       "         1.22856  ,  4.78371  ,  0.       ,  5.00559  ,  0.       ,\n",
       "         5.69874  ,  0.       ,  5.81538  ,  5.61842  ,  5.75679  ,\n",
       "         5.29062  ,  0.492575 ,  2.55574  ,  5.78369  ,  4.24211  ],\n",
       "       [ 0.0310154,  1.75395  ,  1.62889  ,  1.01734  ,  1.95183  ,\n",
       "         1.30017  ,  0.529289 ,  0.       ,  0.704405 ,  0.       ,\n",
       "         0.362085 ,  0.       ,  0.       ,  0.       ,  2.06536  ,\n",
       "         1.24326  ,  0.       ,  0.       ,  1.28859  ,  0.151505 ],\n",
       "       [ 0.955797 ,  0.888973 ,  1.3077   ,  2.51659  ,  1.27841  ,\n",
       "         4.80313  ,  0.481411 ,  0.       ,  0.       ,  0.       ,\n",
       "         0.640276 ,  0.       ,  3.17371  ,  0.971216 ,  0.713181 ,\n",
       "         2.7722   ,  0.       ,  2.65117  ,  0.29313  ,  2.59361  ],\n",
       "       [ 0.       ,  0.       ,  0.       ,  0.       ,  0.       ,\n",
       "         0.       ,  0.       ,  0.       ,  0.       ,  0.       ,\n",
       "         0.       ,  0.       ,  0.       ,  0.689623 ,  0.       ,\n",
       "         0.       ,  0.14194  ,  0.       ,  0.       ,  0.       ],\n",
       "       [ 0.       ,  0.943242 ,  0.511915 ,  1.43302  ,  2.14132  ,\n",
       "         0.       ,  0.       ,  0.       ,  0.       ,  0.       ,\n",
       "         0.       ,  0.       ,  1.74854  ,  0.       ,  1.25697  ,\n",
       "         1.84207  ,  0.       ,  0.       ,  0.683706 ,  1.64863  ],\n",
       "       [ 0.       ,  0.       ,  0.       ,  0.       ,  0.       ,\n",
       "         0.120712 ,  0.       ,  0.       ,  0.       ,  0.       ,\n",
       "         0.       ,  0.       ,  0.       ,  0.       ,  0.       ,\n",
       "         0.       ,  0.0683612,  0.       ,  0.       ,  0.       ],\n",
       "       [ 0.       ,  0.       ,  0.       ,  0.       ,  0.       ,\n",
       "         0.       ,  0.       ,  0.       ,  0.       ,  0.       ,\n",
       "         0.       ,  0.       ,  0.       ,  0.       ,  0.       ,\n",
       "         0.       ,  0.       ,  0.       ,  0.       ,  0.       ],\n",
       "       [ 0.266592 ,  0.       ,  0.       ,  0.       ,  0.       ,\n",
       "         0.       ,  0.       ,  0.       ,  0.       ,  0.       ,\n",
       "         0.       ,  0.       ,  0.       ,  0.       ,  0.       ,\n",
       "         0.       ,  0.       ,  0.       ,  0.       ,  0.       ],\n",
       "       [ 0.       ,  0.       ,  0.       ,  0.       ,  0.       ,\n",
       "         0.       ,  0.       ,  0.       ,  0.       ,  0.       ,\n",
       "         0.       ,  0.       ,  0.       ,  0.       ,  0.       ,\n",
       "         0.       ,  0.       ,  0.       ,  0.       ,  0.       ]])"
      ]
     },
     "execution_count": 49,
     "metadata": {},
     "output_type": "execute_result"
    }
   ],
   "source": [
    "D = pd.DataFrame(T_proj[0])\n",
    "M = T_proj[0] - T_proj[0].min()\n",
    "M"
   ]
  },
  {
   "cell_type": "code",
   "execution_count": 58,
   "metadata": {
    "collapsed": false
   },
   "outputs": [
    {
     "name": "stdout",
     "output_type": "stream",
     "text": [
      "de.tt.conll\n"
     ]
    },
    {
     "data": {
      "text/plain": [
       "<matplotlib.axes._subplots.AxesSubplot at 0x10af1b4e0>"
      ]
     },
     "execution_count": 58,
     "metadata": {},
     "output_type": "execute_result"
    },
    {
     "data": {
      "image/png": "[encoded data removed]",
      "text/plain": [
       "<matplotlib.figure.Figure at 0x10acd31d0>"
      ]
     },
     "metadata": {},
     "output_type": "display_data"
    }
   ],
   "source": [
    "i = 4\n",
    "print(source_langs[i])\n",
    "M = T_proj[:,:,i]# - T_proj[:,:,i].min()\n",
    "\n",
    "\n",
    "# Don't read this code\n",
    "#rowwise_min = M.min(axis=1)\n",
    "#M = M.T\n",
    "#M -= rowwise_min\n",
    "#M = M.T\n",
    "\n",
    "def softmax(matrix, temperature=1):\n",
    "    m_exp = np.exp(matrix/temperature)\n",
    "    return (m_exp.T / m_exp.sum(axis=1)).T\n",
    "\n",
    "pd.DataFrame(softmax(M, 0.5)).plot(kind='bar')\n",
    "\n",
    "# M -= M.min(axis=1)\n",
    "\n",
    "#pd.DataFrame(M) *1"
   ]
  },
  {
   "cell_type": "code",
   "execution_count": null,
   "metadata": {
    "collapsed": true
   },
   "outputs": [],
   "source": []
  }
 ],
 "metadata": {
  "kernelspec": {
   "display_name": "Python 3",
   "language": "python",
   "name": "python3"
  },
  "language_info": {
   "codemirror_mode": {
    "name": "ipython",
    "version": 3
   },
   "file_extension": ".py",
   "mimetype": "text/x-python",
   "name": "python",
   "nbconvert_exporter": "python",
   "pygments_lexer": "ipython3",
   "version": "3.4.3"
  }
 },
 "nbformat": 4,
 "nbformat_minor": 0
}

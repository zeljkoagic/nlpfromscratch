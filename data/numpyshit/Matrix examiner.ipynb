{
 "cells": [
  {
   "cell_type": "code",
   "execution_count": 6,
   "metadata": {
    "collapsed": false
   },
   "outputs": [],
   "source": [
    "%matplotlib inline\n",
    "import numpy as np\n",
    "import pandas as pd\n",
    "import seaborn as sns"
   ]
  },
  {
   "cell_type": "code",
   "execution_count": 7,
   "metadata": {
    "collapsed": true
   },
   "outputs": [],
   "source": [
    "sent = np.load(\"en.1.npz\")\n",
    "T_proj = sent['projection_tensor']\n",
    "source_langs = sent['source_languages']"
   ]
  },
  {
   "cell_type": "code",
   "execution_count": 8,
   "metadata": {
    "collapsed": false
   },
   "outputs": [
    {
     "data": {
      "text/plain": [
       "(11, 12)"
      ]
     },
     "execution_count": 8,
     "metadata": {},
     "output_type": "execute_result"
    }
   ],
   "source": [
    "T_proj[:,:,0].shape"
   ]
  },
  {
   "cell_type": "code",
   "execution_count": 9,
   "metadata": {
    "collapsed": false
   },
   "outputs": [
    {
     "data": {
      "text/plain": [
       "array([[ 0.01857725,  0.00966962,  0.02829428,  0.01531986,  0.00683147,\n",
       "         0.01329688,  0.00739149,  0.        ,  0.01131141,  0.        ,\n",
       "         0.00524848,  0.        ,  0.00732743,  0.00898026,  0.00594038,\n",
       "         0.02999028,  0.00858438,  0.01862544,  0.02844567,  0.01602879],\n",
       "       [ 0.04703689,  0.03116582,  0.02829428,  0.04924324,  0.02471588,\n",
       "         0.03913895,  0.04288484,  0.        ,  0.0407136 ,  0.        ,\n",
       "         0.02916945,  0.        ,  0.02585639,  0.03144237,  0.02750928,\n",
       "         0.02999028,  0.04206643,  0.06933466,  0.02844567,  0.04808179],\n",
       "       [ 0.        ,  0.        ,  0.        ,  0.        ,  0.        ,\n",
       "         0.        ,  0.02088914,  0.        ,  0.0285683 ,  0.        ,\n",
       "         0.02916945,  0.        ,  0.        ,  0.        ,  0.        ,\n",
       "         0.        ,  0.27499539,  0.        ,  0.        ,  0.        ],\n",
       "       [ 0.66572862,  0.68992894,  0.69248163,  0.47770808,  0.68971166,\n",
       "         0.07745146,  0.61163458,  0.        ,  0.65684329,  0.        ,\n",
       "         0.69165595,  0.        ,  0.65414197,  0.74445609,  0.67366974,\n",
       "         0.56685685,  0.09737363,  0.28680442,  0.70708948,  0.50756826],\n",
       "       [ 0.04785439,  0.08257761,  0.06993725,  0.08665727,  0.07309762,\n",
       "         0.09503284,  0.05754503,  0.        ,  0.0602136 ,  0.        ,\n",
       "         0.03566894,  0.        ,  0.01603486,  0.05947086,  0.08665594,\n",
       "         0.05983396,  0.06536222,  0.05978278,  0.05819966,  0.052304  ],\n",
       "       [ 0.07999231,  0.05106993,  0.05850777,  0.19931323,  0.05028333,\n",
       "         0.56426482,  0.05603457,  0.        ,  0.03255524,  0.        ,\n",
       "         0.04163041,  0.        ,  0.15076615,  0.05393182,  0.04088384,\n",
       "         0.13990793,  0.16021302,  0.30242012,  0.05089361,  0.20312019],\n",
       "       [ 0.        ,  0.        ,  0.        ,  0.        ,  0.        ,\n",
       "         0.03913895,  0.        ,  0.        ,  0.        ,  0.        ,\n",
       "         0.02916945,  0.        ,  0.        ,  0.04612154,  0.02750928,\n",
       "         0.        ,  0.12965077,  0.02173147,  0.        ,  0.        ],\n",
       "       [ 0.03922797,  0.0526331 ,  0.03760198,  0.10916869,  0.08121241,\n",
       "         0.02614502,  0.07496584,  0.        ,  0.03062005,  0.        ,\n",
       "         0.02161007,  0.        ,  0.06830404,  0.        ,  0.05530371,\n",
       "         0.08344984,  0.04206643,  0.05149753,  0.04158888,  0.12015817],\n",
       "       [ 0.        ,  0.03116582,  0.02829428,  0.0247337 ,  0.02471588,\n",
       "         0.04185371,  0.04288484,  0.        ,  0.0407136 ,  0.        ,\n",
       "         0.02916945,  0.        ,  0.02585639,  0.        ,  0.02750928,\n",
       "         0.02999028,  0.04369478,  0.01767872,  0.02844567,  0.01674878],\n",
       "       [ 0.        ,  0.        ,  0.        ,  0.        ,  0.        ,\n",
       "         0.03913895,  0.        ,  0.        ,  0.01703373,  0.        ,\n",
       "         0.        ,  0.        ,  0.        ,  0.        ,  0.        ,\n",
       "         0.        ,  0.08413287,  0.06933466,  0.        ,  0.        ],\n",
       "       [ 0.05454569,  0.02062334,  0.02829428,  0.03335298,  0.02471588,\n",
       "         0.02539948,  0.08576968,  0.        ,  0.0407136 ,  0.        ,\n",
       "         0.0583389 ,  0.        ,  0.02585639,  0.05559707,  0.05501856,\n",
       "         0.02999028,  0.00979364,  0.03345553,  0.02844567,  0.03069298],\n",
       "       [ 0.04703689,  0.03116582,  0.02829428,  0.00450295,  0.02471588,\n",
       "         0.03913895,  0.        ,  0.        ,  0.0407136 ,  0.        ,\n",
       "         0.02916945,  0.        ,  0.02585639,  0.        ,  0.        ,\n",
       "         0.02999028,  0.04206643,  0.06933466,  0.02844567,  0.00529704]])"
      ]
     },
     "execution_count": 9,
     "metadata": {},
     "output_type": "execute_result"
    }
   ],
   "source": [
    "D = pd.DataFrame(T_proj[0])\n",
    "M = T_proj[0] - T_proj[0].min()\n",
    "M"
   ]
  },
  {
   "cell_type": "code",
   "execution_count": 21,
   "metadata": {
    "collapsed": false
   },
   "outputs": [
    {
     "name": "stdout",
     "output_type": "stream",
     "text": [
      "de\n"
     ]
    },
    {
     "data": {
      "text/plain": [
       "<matplotlib.axes._subplots.AxesSubplot at 0x10c039080>"
      ]
     },
     "execution_count": 21,
     "metadata": {},
     "output_type": "execute_result"
    },
    {
     "data": {
      "image/png": "[encoded data removed]",
      "text/plain": [
       "<matplotlib.figure.Figure at 0x10c085128>"
      ]
     },
     "metadata": {},
     "output_type": "display_data"
    }
   ],
   "source": [
    "i = 4\n",
    "print(source_langs[i])\n",
    "M = T_proj[:,:,i]# - T_proj[:,:,i].min()\n",
    "\n",
    "def softmax(matrix, temperature=1):\n",
    "    m_exp = np.exp(matrix/temperature)\n",
    "    return (m_exp.T / m_exp.sum(axis=1)).T\n",
    "\n",
    "#for i in range(T_proj.shape[2]):\n",
    "#    T_proj[:,:,i] = softmax(T_proj[:,:,i], 0.5)\n",
    "\n",
    "#pd.DataFrame(softmax(M, 0.5)).plot(kind='bar', figsize=(20, 10))\n",
    "\n",
    "# M -= M.min(axis=1)\n",
    "\n",
    "#pd.DataFrame(M) *1\n",
    "\n",
    "def sum_normalize(T_proj):\n",
    "    return T_proj.sum(axis=2)\n",
    "\n",
    "M_voted = sum_normalize(T_proj)\n",
    "M_voted\n",
    "pd.DataFrame(M_voted).plot(kind='bar', figsize=(20, 10))\n"
   ]
  },
  {
   "cell_type": "code",
   "execution_count": null,
   "metadata": {
    "collapsed": true
   },
   "outputs": [],
   "source": []
  }
 ],
 "metadata": {
  "kernelspec": {
   "display_name": "Python 3",
   "language": "python",
   "name": "python3"
  },
  "language_info": {
   "codemirror_mode": {
    "name": "ipython",
    "version": 3
   },
   "file_extension": ".py",
   "mimetype": "text/x-python",
   "name": "python",
   "nbconvert_exporter": "python",
   "pygments_lexer": "ipython3",
   "version": "3.4.3"
  }
 },
 "nbformat": 4,
 "nbformat_minor": 0
}
